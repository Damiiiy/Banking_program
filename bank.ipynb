{
 "cells": [
  {
   "cell_type": "code",
   "execution_count": 22,
   "metadata": {},
   "outputs": [],
   "source": [
    "empty_creation = {}"
   ]
  },
  {
   "cell_type": "code",
   "execution_count": 158,
   "metadata": {},
   "outputs": [],
   "source": [
    "def error():\n",
    "     return 'An error occurred'"
   ]
  },
  {
   "cell_type": "code",
   "execution_count": 157,
   "metadata": {},
   "outputs": [],
   "source": [
    "#this function handles the the credit alert processing\n",
    "def credit_alert(empty_creation, username,deposit_amount):\n",
    "    import datetime\n",
    "    acc_num = empty_creation[username]['acc_number']  #targetting the account number for the username given\n",
    "    num = str(acc_num)[0:5]    #targetting and slicing out the first 4 digits of the user's account number\n",
    "    now = datetime.datetime.now()  #current date and time\n",
    "    \n",
    "    with open('cr_alert.txt', 'a') as file:\n",
    "        #the credit alert content\n",
    "        message = f\"\\nDear {num}XXXXXX,\\nYou recieved a credit alert of {deposit_amount}NGN at {now}.\\nYour new balance is {empty_creation[username]['balance']}\\n\"\n",
    "        file.write(message)\n",
    "            \n",
    "def debit_alert(empty_creation, username,amount):\n",
    "    import datetime\n",
    "    acc_num = empty_creation[username]['acc_number']  #targetting the account number for the username given\n",
    "    num = str(acc_num)[0:5]    #targetting and slicing out the first 4 digits of the user's account number\n",
    "    now = datetime.datetime.now()  #current date and time\n",
    "    \n",
    "    with open('dr_alert.txt', 'a') as file:\n",
    "        #the debit alert content\n",
    "        message = f\"\\nDear {num}XXXXXX,\\nYou recieved a debit alert of {amount}NGN on your account at {now}.\\nYour new balance is {empty_creation[username]['balance']}\\n\"\n",
    "        file.write(message)\n",
    "            \n",
    "#function to make deposit on the users account\n",
    "def deposit(empty_creation, username):\n",
    "    try:\n",
    "        deposit_amount = float(input('ENTER THE AMOUNT YOU WANT TO DEPOSIT'))  #collecting deposit amount\n",
    "        empty_creation[username]['balance'] += deposit_amount  #depositing and udating the dictionary\n",
    "        print('YOUR DEPOSIT WAS SUCCESSFUL')     \n",
    "    except Exception:\n",
    "        error() #Calls my error handler if it finds any errors\n",
    "\n",
    "    #sends a credit transaction alert to the cr_alert.txt file when transaction is successful\n",
    "    credit_alert(empty_creation,username, deposit_amount)\n",
    "\n",
    "# function that processes the withdrawals from the users account\n",
    "def withdraw_balance(empty_creation,username):\n",
    "    print(f\"Your balance is {empty_creation[username]['balance']}.\\nHow much would you like to withdraw?\")\n",
    "    try: \n",
    "        amount = float(input(\"ENTER THE AMOUNT YOU'D LIKE TO WITHDRAW\"))\n",
    "    except Exception:\n",
    "        error()\n",
    "    #checks if the usern entered an amount is higher than the their balance\n",
    "    if amount > empty_creation[username]['balance']:\n",
    "        print('Insufficient balance')\n",
    "        withdraw_balance(empty_creation,username)\n",
    "        return\n",
    "    #If the amount is lower than their balance it processes the transaction\n",
    "    empty_creation[username]['balance'] -= amount\n",
    "    print(f\"successful your balance is {empty_creation[username]['balance']}\") \n",
    "    #sends a debit transaction alert to the dr_alert.txt file when the transaction is successful\n",
    "    debit_alert(empty_creation, username, amount)\n"
   ]
  },
  {
   "cell_type": "code",
   "execution_count": 162,
   "metadata": {},
   "outputs": [],
   "source": [
    "#create a new user \n",
    "def create_new_user(empty_creation):\n",
    "    try:                 \n",
    "        import random\n",
    "        user_name = input('Enter a USER NAME')\n",
    "        if user_name in empty_creation:\n",
    "            print ( 'this user name already exists')\n",
    "            return\n",
    "        \n",
    "        acc_name = input('ENTER YOUR NAME')\n",
    "        acc_number = random.randint(1111111111,9999999999)\n",
    "        acc_pin = int(input('INPUT YOUR PIN: '))\n",
    "        print( 'Your account was created successfully')\n",
    "        user_details = {\n",
    "                'acc_name': acc_name,\n",
    "                'acc_number': acc_number,\n",
    "                'balance': 0.00,\n",
    "                'pin': acc_pin,\n",
    "                'user_name' : user_name\n",
    "             }  \n",
    "        empty_creation[user_name] = user_details\n",
    "    except Exception:\n",
    "        print('Error creating new user')\n",
    "\n",
    "   \n",
    "\n",
    "\n",
    "def welcome_loggedin_user(empty_creation, username):\n",
    "    print(f'Welcome to your account \\'{username}\\'')\n",
    "    print(f\"Your account number is: {empty_creation[username]['acc_number']}\")\n",
    "    print(f\"Your account balance is: {empty_creation[username]['balance']}\")\n",
    "    print('What would you like to do?')\n",
    "    print(\"1. Deposit\\n2. Withdraw\")\n",
    "    try: \n",
    "         answer = int( input('ENTER YOUR OPTION 1 to DEPOSIT, AND  2 FOR WITHDRAWAL'))\n",
    "         if answer == 1:\n",
    "              deposit(empty_creation, username)\n",
    "         elif answer == 2:\n",
    "               withdraw_balance(empty_creation, username)\n",
    "         else:\n",
    "             print(' You have entered an invalid option')\n",
    "             welcome_loggedin_user(empty_creation, username)\n",
    "    \n",
    "    except Exception:\n",
    "         error()\n",
    "\n"
   ]
  },
  {
   "cell_type": "code",
   "execution_count": 163,
   "metadata": {},
   "outputs": [],
   "source": [
    "\n",
    "\n",
    "def login(empty_creation):\n",
    "    username = input(\"ENTER YOUR USER NAME\")\n",
    "    if username in empty_creation:\n",
    "        pin = int(input(\"ENTER YOUR PIN: \"))\n",
    "        if pin == empty_creation[username]['pin']:\n",
    "            welcome_loggedin_user(empty_creation, username)\n",
    "            return\n",
    "        else:\n",
    "            print(\"Incorrect PIN. Please try again.\")\n",
    "    else:\n",
    "        print(\"User not found. Please check your username.\")\n",
    "\n",
    "\n"
   ]
  },
  {
   "cell_type": "code",
   "execution_count": 167,
   "metadata": {},
   "outputs": [
    {
     "name": "stdout",
     "output_type": "stream",
     "text": [
      "Welcome to our Bank. \n",
      "What would you like to do?\n",
      "1. To Login \n",
      "2. To Register\n",
      "Welcome to your account 'joy'\n",
      "Your account number is: 9464715619\n",
      "Your account balance is: 1900010.0\n",
      "What would you like to do?\n",
      "1. Deposit\n",
      "2. Withdraw\n",
      "Your balance is 1900010.0.\n",
      "How much would you like to withdraw?\n",
      "successful your balance is 900010.0\n"
     ]
    }
   ],
   "source": [
    "print('Welcome to our Bank. \\nWhat would you like to do?\\n1. To Login \\n2. To Register')\n",
    "#Asks user if they want to register or login\n",
    "def welcome_user():\n",
    "     try:\n",
    "          option = int(input('ENTER YOUR OPTION; 1 TO LOGIN AND 2 TO REGISTER'))\n",
    "          if option == 1:\n",
    "              login(empty_creation)\n",
    "          elif option == 2:\n",
    "              create_new_user(empty_creation)\n",
    "          else:\n",
    "               welcome_user()\n",
    "     except Exception:\n",
    "          print('An error occurred while answering. Try again')\n",
    "\n",
    "welcome_user()\n",
    "                  "
   ]
  },
  {
   "cell_type": "code",
   "execution_count": 153,
   "metadata": {},
   "outputs": [
    {
     "name": "stdout",
     "output_type": "stream",
     "text": [
      "{'ndy': {'acc_name': 'Umoh Ndy', 'acc_number': 9172569655, 'balance': 6900.0, 'pin': 1234, 'user_name': 'ndy'}, 'joy': {'acc_name': 'Joy ibiok', 'acc_number': 9464715619, 'balance': 1900010.0, 'pin': 1888, 'user_name': 'joy'}, 'glory': {'acc_name': 'glory1', 'acc_number': 1546236462, 'balance': 3000.0, 'pin': 1234, 'user_name': 'glory'}, 'bolu': {'acc_name': 'bolu', 'acc_number': 5844505527, 'balance': 0.0, 'pin': 1234, 'user_name': 'bolu'}, 'bem': {'acc_name': 'bene', 'acc_number': 2768867612, 'balance': 0.0, 'pin': 1234, 'user_name': 'bem'}, 'can': {'acc_name': 'can', 'acc_number': 5270995512, 'balance': 0.0, 'pin': 1234, 'user_name': 'can'}}\n"
     ]
    }
   ],
   "source": [
    "print(empty_creation)"
   ]
  },
  {
   "cell_type": "code",
   "execution_count": null,
   "metadata": {},
   "outputs": [],
   "source": []
  }
 ],
 "metadata": {
  "kernelspec": {
   "display_name": "Python 3",
   "language": "python",
   "name": "python3"
  },
  "language_info": {
   "codemirror_mode": {
    "name": "ipython",
    "version": 3
   },
   "file_extension": ".py",
   "mimetype": "text/x-python",
   "name": "python",
   "nbconvert_exporter": "python",
   "pygments_lexer": "ipython3",
   "version": "3.11.5"
  },
  "orig_nbformat": 4
 },
 "nbformat": 4,
 "nbformat_minor": 2
}
